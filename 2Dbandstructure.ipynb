{
 "cells": [
  {
   "cell_type": "code",
   "execution_count": null,
   "metadata": {},
   "outputs": [],
   "source": [
    "import numpy as np"
   ]
  },
  {
   "cell_type": "code",
   "execution_count": null,
   "metadata": {},
   "outputs": [],
   "source": [
    "hbar=1\n",
    "m=0.01\n",
    "V_G=100#amplitude of the potential\n",
    "G=2*np.pi/d\n",
    "G_list=np.array([-G,0.0],[G,0.0],[0.0,0.0][0.0,G],[0.0,-G])\n",
    "k_x=np.pi/(2*a)*ki/Len_k \n",
    "k_y=np.pi/(2*a)*ki/Len_k\n",
    "Eig=np.zeros(shape=(NrOfK, NrOfK))\n",
    "for i in range (NrOfK):\n",
    "    Eig[i,i] = hbar/(2*m)*((k_x+G[i,0])**2(k_y+G[i,1])**2) + A\n",
    "\n"
   ]
  },
  {
   "cell_type": "code",
   "execution_count": null,
   "metadata": {},
   "outputs": [],
   "source": [
    "import scipy.linalg\n",
    "E,V=scipy.linalg.eig(Eig)\n",
    "E.sort()"
   ]
  }
 ],
 "metadata": {
  "kernelspec": {
   "display_name": "Python 3",
   "language": "python",
   "name": "python3"
  },
  "language_info": {
   "codemirror_mode": {
    "name": "ipython",
    "version": 3
   },
   "file_extension": ".py",
   "mimetype": "text/x-python",
   "name": "python",
   "nbconvert_exporter": "python",
   "pygments_lexer": "ipython3",
   "version": "3.6.5"
  }
 },
 "nbformat": 4,
 "nbformat_minor": 2
}
