{
 "cells": [
  {
   "cell_type": "markdown",
   "metadata": {},
   "source": []
  },
  {
   "cell_type": "code",
   "execution_count": 13,
   "metadata": {},
   "outputs": [],
   "source": [
    "# a=3      #Latice constant\n",
    "# sigma=a/4\n",
    "# U=0\n",
    "# NrOfk=6\n",
    "# maxK=1\n",
    "# NrOfK=maxK*2+1\n",
    "# ki=0      #k vector for which we are calculating\n",
    "# Len_k=5   #How fine to calculate the band structure\n",
    "# A=-U*np.sqrt(2 *np.pi)*sigma/a"
   ]
  },
  {
   "cell_type": "code",
   "execution_count": null,
   "metadata": {},
   "outputs": [],
   "source": []
  },
  {
   "cell_type": "markdown",
   "metadata": {},
   "source": [
    "Put k vector into right magnitude. I am trying to write everythng in correct magnitudes. Before *k* is some integer $k =.. -2,-1,0,1..$\n",
    "\n",
    "Define matrices for the eigenvalue equation\n",
    "\n",
    "All of this could be put in a one function instead of creating a separate script"
   ]
  },
  {
   "cell_type": "code",
   "execution_count": 10,
   "metadata": {},
   "outputs": [],
   "source": [
    "hbar=1\n",
    "m=0.01\n",
    "k=np.pi/(2*a)*ki/Len_k  #I am a bit confused why /2a \n",
    "Eig=np.zeros(shape=(NrOfK, NrOfK))\n",
    "for i in range(NrOfK):\n",
    "    K=np.pi/a*(i-maxK)\n",
    "    Eig[i,i] = hbar/(2*m)*(k+K)**2 + A\n",
    "#    print(\"a, maxK = \", a, maxK)\n",
    "    for j in range((i+1),NrOfK):\n",
    "        G=np.pi/a*(i-j)\n",
    "        \n",
    "        Eig[j,i]=Eig[i,j]=A*np.exp(-(G*sigma)**2/2)\n",
    "#print(\"Diag\",Eig[1,1],Eig[2,2])\n",
    "#print(\"Not diag\", Eig[1,2],Eig[2,3])"
   ]
  },
  {
   "cell_type": "markdown",
   "metadata": {},
   "source": [
    "Solve eigenvalue equation"
   ]
  },
  {
   "cell_type": "code",
   "execution_count": 11,
   "metadata": {},
   "outputs": [],
   "source": [
    "import scipy.linalg\n",
    "E,V=scipy.linalg.eig(Eig)\n",
    "E.sort()"
   ]
  },
  {
   "cell_type": "code",
   "execution_count": null,
   "metadata": {},
   "outputs": [],
   "source": []
  },
  {
   "cell_type": "code",
   "execution_count": null,
   "metadata": {},
   "outputs": [],
   "source": []
  },
  {
   "cell_type": "code",
   "execution_count": null,
   "metadata": {},
   "outputs": [],
   "source": []
  }
 ],
 "metadata": {
  "kernelspec": {
   "display_name": "Python 3",
   "language": "python",
   "name": "python3"
  },
  "language_info": {
   "codemirror_mode": {
    "name": "ipython",
    "version": 3
   },
   "file_extension": ".py",
   "mimetype": "text/x-python",
   "name": "python",
   "nbconvert_exporter": "python",
   "pygments_lexer": "ipython3",
   "version": "3.6.5"
  },
  "varInspector": {
   "cols": {
    "lenName": 16,
    "lenType": 16,
    "lenVar": 40
   },
   "kernels_config": {
    "python": {
     "delete_cmd_postfix": "",
     "delete_cmd_prefix": "del ",
     "library": "var_list.py",
     "varRefreshCmd": "print(var_dic_list())"
    },
    "r": {
     "delete_cmd_postfix": ") ",
     "delete_cmd_prefix": "rm(",
     "library": "var_list.r",
     "varRefreshCmd": "cat(var_dic_list()) "
    }
   },
   "types_to_exclude": [
    "module",
    "function",
    "builtin_function_or_method",
    "instance",
    "_Feature"
   ],
   "window_display": false
  }
 },
 "nbformat": 4,
 "nbformat_minor": 2
}
