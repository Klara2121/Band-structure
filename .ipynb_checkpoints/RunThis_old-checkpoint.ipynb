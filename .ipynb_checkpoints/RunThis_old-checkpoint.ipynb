{
 "cells": [
  {
   "cell_type": "code",
   "execution_count": 152,
   "metadata": {},
   "outputs": [],
   "source": [
    "import numpy as np\n",
    "%matplotlib notebook \n",
    "import matplotlib.pyplot as plt\n",
    "import ipywidgets as widgets\n",
    "from ipywidgets import interact, interactive\n",
    "from IPython.display import display\n",
    "from ipywidgets import HBox, Label\n",
    "from ipywidgets import IntSlider"
   ]
  },
  {
   "cell_type": "markdown",
   "metadata": {},
   "source": [
    "Summary from all of the different notes we have:\n",
    "\n",
    "We have the Gaussian potential $V(x)=-U\\sum_n e^{-(x-na)^2/2\\sigma^2}$ which is writen in Fourier components as: $V(x)=\\sum_{G_j}-U\\sqrt {2\\pi}\\frac{\\sigma}{a}e^{-G^2_j \\sigma^2/2} e^{i G_j x} \\equiv  \\sum_{G_j} V_{G_j} \\cdot e^{i G_j x}$.\n",
    "\n",
    "We are solving the eigenvalue equation:\n",
    "$\\Big( \\frac{\\hbar^2 (k+K)^2}{2m} - \\varepsilon \\Big) c_{k+K} +\\sum_G c_{k+K-G} V_G$ and search for $\\varepsilon$ - the energy eigenvectors."
   ]
  },
  {
   "cell_type": "markdown",
   "metadata": {},
   "source": [
    "Define different stuff\n",
    "* Don't confuse, *K* is a reciprocal lattice vector, *k* is a wave vector $k\\in [-\\pi/a; \\pi/a)$\n",
    "* *MaxK* - maximal reciprocal lattice vector we consider including in the sum ($K$ or $K-G$). Then summation goes from *-MaxK* to *MaxK*\n",
    "* *N_k* - in how many peaces we split $[0, \\pi/a)$\n",
    "* Potential here and energy later at the moment is in arbitrary units, but need to be calculated. I believe I could make it all pretier by multiplying only at the end with some constant which would bring units. Otherwise it does not look good now"
   ]
  },
  {
   "cell_type": "code",
   "execution_count": 153,
   "metadata": {},
   "outputs": [],
   "source": [
    "a=3      #Latice constant in Åmstrongs\n",
    "sigma=a/4 #Very arbitrary value\n",
    "U=10     #\n",
    "maxK=2  \n",
    "NrOfK=maxK*2+1\n",
    "Len_k=4"
   ]
  },
  {
   "cell_type": "markdown",
   "metadata": {},
   "source": [
    "The ampliture of $V_G$ we call $A$, thus $A \\equiv -U\\sqrt {2\\pi}\\frac{\\sigma}{a}$ and  $V_G = A e^{-G^2 \\sigma^2/2} $"
   ]
  },
  {
   "cell_type": "code",
   "execution_count": 154,
   "metadata": {},
   "outputs": [],
   "source": [
    "A=-U*np.sqrt(2 *np.pi)*sigma/a"
   ]
  },
  {
   "cell_type": "markdown",
   "metadata": {},
   "source": [
    "Run Bandstructure file for each *k* value"
   ]
  },
  {
   "cell_type": "code",
   "execution_count": 155,
   "metadata": {},
   "outputs": [],
   "source": [
    "Energies=np.zeros(shape=(Len_k*2+1, NrOfK))\n",
    "kVect=[0]*(Len_k*2+1)\n",
    "for ki in range(-Len_k,Len_k+1):\n",
    "    %run BandStructureFunction.ipynb\n",
    "    Energies[ki+Len_k]=np.real(E)\n",
    "    kVect[ki+Len_k]=ki*a"
   ]
  },
  {
   "cell_type": "code",
   "execution_count": null,
   "metadata": {},
   "outputs": [],
   "source": []
  },
  {
   "cell_type": "markdown",
   "metadata": {},
   "source": [
    "Plot potentials"
   ]
  },
  {
   "cell_type": "code",
   "execution_count": 156,
   "metadata": {},
   "outputs": [],
   "source": [
    "%%capture\n",
    "#If you want to display the figure here, then uncomment previous line\n",
    "fig, [ax,ax2]=plt.subplots(nrows=1, ncols=2)  #Two plots in the same figure\n",
    "\n",
    "x=np.linspace(-5*a,5*a,100)\n",
    "Vx=-U*np.exp(-x**2/(2*sigma**2))\n",
    "VxSum=[0]*len(x)\n",
    "for n in range(-5,6):\n",
    "    Vx1=-U*np.exp(-(x-n*a)**2/(2*sigma**2))\n",
    "    ax.plot(x,Vx1,'y--')\n",
    "    VxSum=VxSum+Vx1\n",
    "ax.plot(x,VxSum)\n",
    "ax.plot(x,Vx)\n",
    "ax.set(xlabel='a, $\\AA$',ylabel='V, arb. u', title='Atomic potential')"
   ]
  },
  {
   "cell_type": "markdown",
   "metadata": {},
   "source": [
    "Plot energies"
   ]
  },
  {
   "cell_type": "code",
   "execution_count": 157,
   "metadata": {
    "scrolled": false
   },
   "outputs": [],
   "source": [
    "%%capture\n",
    "ax2.plot(kVect,Energies)\n",
    "ax2.set(xlabel='$k\\cdot a$',ylabel='E, arb. u', title='Band structure')"
   ]
  },
  {
   "cell_type": "code",
   "execution_count": 158,
   "metadata": {},
   "outputs": [],
   "source": [
    "#%matplotlib notebook \n",
    "#%matplotlib notebook \n",
    "#fig.set_size_inches(9.5, 3.5)\n",
    "#fig.subplots_adjust(wspace=0.4, bottom=0.2) #Margins around the subplots\n",
    "#fig"
   ]
  },
  {
   "cell_type": "code",
   "execution_count": 159,
   "metadata": {},
   "outputs": [
    {
     "data": {
      "application/vnd.jupyter.widget-view+json": {
       "model_id": "1f8d5898d6be4c97bf63b9e3be037305",
       "version_major": 2,
       "version_minor": 0
      },
      "text/plain": [
       "interactive(children=(IntSlider(value=3, description='Lattice_Constant', max=5, min=1), IntSlider(value=20, de…"
      ]
     },
     "metadata": {},
     "output_type": "display_data"
    }
   ],
   "source": [
    "def f(Lattice_Constant, Amplitude, NumKVec):\n",
    "    global a,A, ki, Len_k, maxK, U, NrOfK  #So that BandStructureFunction.ipynb knows the variables used in a function f\n",
    "    a=Lattice_Constant\n",
    "    U=Amplitude\n",
    "    maxK=NumKVec\n",
    "   \n",
    "    A=-U*np.sqrt(2 *np.pi)*sigma/a\n",
    "    #Energies=np.zeros(shape=(Len_k*2+1, NrOfK))\n",
    "    #kVect=[0]*(Len_k*2+1)\n",
    "    for ki in range(-Len_k,Len_k+1):\n",
    "        %run BandStructureFunction.ipynb\n",
    "        Energies[ki+Len_k]=np.real(E)\n",
    "        kVect[ki+Len_k]=ki*a\n",
    "    fig, [ax,ax2]=plt.subplots(nrows=1, ncols=2)  #Two plots in the same figure\n",
    "\n",
    "    x=np.linspace(-5*a,5*a,100)\n",
    "    Vx=-U*np.exp(-x**2/(2*sigma**2))\n",
    "    VxSum=[0]*len(x)\n",
    "    for n in range(-5,6):\n",
    "        Vx1=-U*np.exp(-(x-n*a)**2/(2*sigma**2))\n",
    "        ax.plot(x,Vx1,'y--')\n",
    "        VxSum=VxSum+Vx1\n",
    "    print(U) \n",
    "    ax.plot(x,VxSum)\n",
    "    ax.plot(x,Vx)\n",
    "    ax.set(xlabel='a, $\\AA$',ylabel='V, arb. u', title='Atomic potential')\n",
    "   \n",
    "    ax2.plot(kVect, Energies)\n",
    "    ax2.set(xlabel='$k\\cdot a$',ylabel='E, arb. u', title='Band structure')\n",
    "    fig.set_size_inches(9.5, 3.5)\n",
    "    fig\n",
    "    \n",
    "interactive(f,Lattice_Constant=(1,5,1),Amplitude=(0,40,1), NumKVec=(1,40,1) ) \n",
    "\n",
    "    \n",
    "\n",
    "\n",
    "\n",
    "\n",
    "\n",
    "\n",
    "\n",
    "    "
   ]
  },
  {
   "cell_type": "code",
   "execution_count": null,
   "metadata": {},
   "outputs": [],
   "source": []
  }
 ],
 "metadata": {
  "kernelspec": {
   "display_name": "Python 3",
   "language": "python",
   "name": "python3"
  },
  "language_info": {
   "codemirror_mode": {
    "name": "ipython",
    "version": 3
   },
   "file_extension": ".py",
   "mimetype": "text/x-python",
   "name": "python",
   "nbconvert_exporter": "python",
   "pygments_lexer": "ipython3",
   "version": "3.6.5"
  },
  "varInspector": {
   "cols": {
    "lenName": 16,
    "lenType": 16,
    "lenVar": 40
   },
   "kernels_config": {
    "python": {
     "delete_cmd_postfix": "",
     "delete_cmd_prefix": "del ",
     "library": "var_list.py",
     "varRefreshCmd": "print(var_dic_list())"
    },
    "r": {
     "delete_cmd_postfix": ") ",
     "delete_cmd_prefix": "rm(",
     "library": "var_list.r",
     "varRefreshCmd": "cat(var_dic_list()) "
    }
   },
   "types_to_exclude": [
    "module",
    "function",
    "builtin_function_or_method",
    "instance",
    "_Feature"
   ],
   "window_display": false
  }
 },
 "nbformat": 4,
 "nbformat_minor": 2
}
