{
 "cells": [
  {
   "cell_type": "code",
   "execution_count": 4,
   "metadata": {},
   "outputs": [],
   "source": [
    "import numpy as np\n",
    "a=3   #Latice constant in Åmstrongs\n",
    "sigma=1 #Very arbitrary value\n",
    "Kmax=6  \n",
    "maxK=1\n",
    "NrOfK=maxK*2+1\n",
    "Len_k=3\n",
    "U=100\n",
    "A=-U*np.sqrt(2 *np.pi)*sigma/a"
   ]
  },
  {
   "cell_type": "code",
   "execution_count": 10,
   "metadata": {},
   "outputs": [],
   "source": [
    "Energies=np.zeros(shape=(NrOfK, NrOfK))\n",
    "kVect=np.zeros((2,Len_k*2+1,Len_k*2+1))\n",
    "\n",
    "for kx in range(-Len_k,Len_k+1):    \n",
    "    for ky in range(-Len_k,Len_k+1):\n",
    "        #%run BandStructureFunction.ipynb\n",
    "        #Energies[kx+Len_k]=np.real(E)\n",
    "        kVect[0,kx+Len_k,ky+Len_k]=kx*a\n",
    "        kVect[1,kx+Len_k,ky+Len_k]=ky*a\n",
    "   "
   ]
  },
  {
   "cell_type": "code",
   "execution_count": 11,
   "metadata": {},
   "outputs": [
    {
     "data": {
      "text/plain": [
       "array([[[-9., -9., -9., -9., -9., -9., -9.],\n",
       "        [-6., -6., -6., -6., -6., -6., -6.],\n",
       "        [-3., -3., -3., -3., -3., -3., -3.],\n",
       "        [ 0.,  0.,  0.,  0.,  0.,  0.,  0.],\n",
       "        [ 3.,  3.,  3.,  3.,  3.,  3.,  3.],\n",
       "        [ 6.,  6.,  6.,  6.,  6.,  6.,  6.],\n",
       "        [ 9.,  9.,  9.,  9.,  9.,  9.,  9.]],\n",
       "\n",
       "       [[-9., -6., -3.,  0.,  3.,  6.,  9.],\n",
       "        [-9., -6., -3.,  0.,  3.,  6.,  9.],\n",
       "        [-9., -6., -3.,  0.,  3.,  6.,  9.],\n",
       "        [-9., -6., -3.,  0.,  3.,  6.,  9.],\n",
       "        [-9., -6., -3.,  0.,  3.,  6.,  9.],\n",
       "        [-9., -6., -3.,  0.,  3.,  6.,  9.],\n",
       "        [-9., -6., -3.,  0.,  3.,  6.,  9.]]])"
      ]
     },
     "execution_count": 11,
     "metadata": {},
     "output_type": "execute_result"
    }
   ],
   "source": [
    "kVect"
   ]
  },
  {
   "cell_type": "code",
   "execution_count": null,
   "metadata": {},
   "outputs": [],
   "source": []
  }
 ],
 "metadata": {
  "kernelspec": {
   "display_name": "Python 3",
   "language": "python",
   "name": "python3"
  },
  "language_info": {
   "codemirror_mode": {
    "name": "ipython",
    "version": 3
   },
   "file_extension": ".py",
   "mimetype": "text/x-python",
   "name": "python",
   "nbconvert_exporter": "python",
   "pygments_lexer": "ipython3",
   "version": "3.6.5"
  }
 },
 "nbformat": 4,
 "nbformat_minor": 2
}
